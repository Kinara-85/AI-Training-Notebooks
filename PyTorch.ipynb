{
  "nbformat": 4,
  "nbformat_minor": 0,
  "metadata": {
    "colab": {
      "provenance": [],
      "gpuType": "T4"
    },
    "kernelspec": {
      "name": "python3",
      "display_name": "Python 3"
    },
    "language_info": {
      "name": "python"
    },
    "accelerator": "GPU"
  },
  "cells": [
    {
      "cell_type": "markdown",
      "source": [
        "Import"
      ],
      "metadata": {
        "id": "PGd924mwpsq8"
      }
    },
    {
      "cell_type": "code",
      "execution_count": 1,
      "metadata": {
        "id": "lok0shYXpXzX"
      },
      "outputs": [],
      "source": [
        "import torch"
      ]
    },
    {
      "cell_type": "code",
      "source": [
        "torch.__version__"
      ],
      "metadata": {
        "colab": {
          "base_uri": "https://localhost:8080/",
          "height": 36
        },
        "id": "U2-iLp92pzTh",
        "outputId": "ac258a8f-0160-4efd-86e1-196258ec3a05"
      },
      "execution_count": 2,
      "outputs": [
        {
          "output_type": "execute_result",
          "data": {
            "text/plain": [
              "'2.6.0+cu124'"
            ],
            "application/vnd.google.colaboratory.intrinsic+json": {
              "type": "string"
            }
          },
          "metadata": {},
          "execution_count": 2
        }
      ]
    },
    {
      "cell_type": "markdown",
      "source": [
        "Creating a Scalar"
      ],
      "metadata": {
        "id": "_pGcjP20p5Vu"
      }
    },
    {
      "cell_type": "code",
      "source": [
        "sca_lar = torch.tensor(987)\n",
        "sca_lar.ndim\n",
        "sca_lar.item()\n",
        "sca_lar.size()"
      ],
      "metadata": {
        "colab": {
          "base_uri": "https://localhost:8080/"
        },
        "id": "TlPI5N3bp8To",
        "outputId": "634b2a37-ad54-4e81-94ac-ae315cee354b"
      },
      "execution_count": 3,
      "outputs": [
        {
          "output_type": "execute_result",
          "data": {
            "text/plain": [
              "torch.Size([])"
            ]
          },
          "metadata": {},
          "execution_count": 3
        }
      ]
    },
    {
      "cell_type": "markdown",
      "source": [
        "Creating a vector"
      ],
      "metadata": {
        "id": "Gr_WGMqJqVgW"
      }
    },
    {
      "cell_type": "code",
      "source": [
        "vec_tor = torch.tensor([34,66])\n",
        "# vector = torch.tensor([[7],\n",
        "                      # [4]])\n",
        "vec_tor.ndim\n",
        "vec_tor.shape\n"
      ],
      "metadata": {
        "colab": {
          "base_uri": "https://localhost:8080/"
        },
        "id": "Lt9FJ6rsqXkg",
        "outputId": "b07f3b4a-22b7-422e-c8a2-09b59c3f9eb9"
      },
      "execution_count": 4,
      "outputs": [
        {
          "output_type": "execute_result",
          "data": {
            "text/plain": [
              "torch.Size([2])"
            ]
          },
          "metadata": {},
          "execution_count": 4
        }
      ]
    },
    {
      "cell_type": "markdown",
      "source": [
        "Creating a Matrix"
      ],
      "metadata": {
        "id": "shIVKGIxq5LY"
      }
    },
    {
      "cell_type": "code",
      "source": [
        "mat_rix = torch.tensor([[13,24,83],\n",
        "                         [49,59,36]])\n",
        "\n",
        "mat_rix.ndim\n",
        "mat_rix.shape"
      ],
      "metadata": {
        "colab": {
          "base_uri": "https://localhost:8080/"
        },
        "id": "uZg4Q5bLrEZP",
        "outputId": "b9650eb7-70b8-4724-9533-d442746a2aeb"
      },
      "execution_count": 5,
      "outputs": [
        {
          "output_type": "execute_result",
          "data": {
            "text/plain": [
              "torch.Size([2, 3])"
            ]
          },
          "metadata": {},
          "execution_count": 5
        }
      ]
    },
    {
      "cell_type": "markdown",
      "source": [
        "Tensor"
      ],
      "metadata": {
        "id": "1EyZxJktrcsK"
      }
    },
    {
      "cell_type": "code",
      "source": [
        "Ten_sor = torch.tensor([[[4,4],[5,5],[6,6]],\n",
        "                        [[7,7],[8,8],[9,9]],\n",
        "                        [[4,4],[7,7],[1,1]]])\n",
        "Ten_sor.ndim\n",
        "Ten_sor.shape"
      ],
      "metadata": {
        "colab": {
          "base_uri": "https://localhost:8080/"
        },
        "id": "ipv7u727reNU",
        "outputId": "c029460d-e68f-4059-a4e5-fe219a0472ea"
      },
      "execution_count": 6,
      "outputs": [
        {
          "output_type": "execute_result",
          "data": {
            "text/plain": [
              "torch.Size([3, 3, 2])"
            ]
          },
          "metadata": {},
          "execution_count": 6
        }
      ]
    },
    {
      "cell_type": "markdown",
      "source": [
        "Creating Random, Ones and Zero Tensor"
      ],
      "metadata": {
        "id": "ItdZxU3IsGZ5"
      }
    },
    {
      "cell_type": "code",
      "source": [
        "Rand_tensor = torch.rand(3,4)\n",
        "Rand_tensor"
      ],
      "metadata": {
        "colab": {
          "base_uri": "https://localhost:8080/"
        },
        "id": "WPAT3mY0sMss",
        "outputId": "619f9a6e-4173-4ec7-a2f7-b59d9eac9b5f"
      },
      "execution_count": 7,
      "outputs": [
        {
          "output_type": "execute_result",
          "data": {
            "text/plain": [
              "tensor([[0.7872, 0.5586, 0.7353, 0.9260],\n",
              "        [0.6706, 0.5332, 0.9581, 0.6805],\n",
              "        [0.5273, 0.9612, 0.4759, 0.1867]])"
            ]
          },
          "metadata": {},
          "execution_count": 7
        }
      ]
    },
    {
      "cell_type": "code",
      "source": [
        "Ones_tensor = torch.ones(3,4)\n",
        "Ones_tensor"
      ],
      "metadata": {
        "colab": {
          "base_uri": "https://localhost:8080/"
        },
        "id": "jXWY3lexsUAZ",
        "outputId": "3c32422a-4be7-4c72-f5ce-aac9325961c8"
      },
      "execution_count": 8,
      "outputs": [
        {
          "output_type": "execute_result",
          "data": {
            "text/plain": [
              "tensor([[1., 1., 1., 1.],\n",
              "        [1., 1., 1., 1.],\n",
              "        [1., 1., 1., 1.]])"
            ]
          },
          "metadata": {},
          "execution_count": 8
        }
      ]
    },
    {
      "cell_type": "code",
      "source": [
        "Zeros_tensor = torch.zeros(3,4)\n",
        "Zeros_tensor"
      ],
      "metadata": {
        "colab": {
          "base_uri": "https://localhost:8080/"
        },
        "id": "tkP1E2-1sZ4r",
        "outputId": "350b0620-4558-4bae-c682-353d01b8be9b"
      },
      "execution_count": 9,
      "outputs": [
        {
          "output_type": "execute_result",
          "data": {
            "text/plain": [
              "tensor([[0., 0., 0., 0.],\n",
              "        [0., 0., 0., 0.],\n",
              "        [0., 0., 0., 0.]])"
            ]
          },
          "metadata": {},
          "execution_count": 9
        }
      ]
    },
    {
      "cell_type": "markdown",
      "source": [
        "Float with CPU\n",
        "\n",
        "\n"
      ],
      "metadata": {
        "id": "suI05r8os70N"
      }
    },
    {
      "cell_type": "code",
      "source": [
        "# float_32_tensor = torch.tensor([8.9,6.66,98.009],\n",
        "#                                dtype=torch.float32,\n",
        "#                                device=None,\n",
        "#                                requires_grad=False)\n",
        "# float_32_tensor.dtype"
      ],
      "metadata": {
        "id": "LRoaBxGps6xy"
      },
      "execution_count": 10,
      "outputs": []
    },
    {
      "cell_type": "markdown",
      "source": [
        "Float with GPU"
      ],
      "metadata": {
        "id": "gRJcbH7Lt_oC"
      }
    },
    {
      "cell_type": "code",
      "source": [
        "torch.cuda.is_available() # to check GPU availability"
      ],
      "metadata": {
        "colab": {
          "base_uri": "https://localhost:8080/"
        },
        "id": "DAyvGhzxt44I",
        "outputId": "9faf5065-5eb7-4781-fbcd-40005ab6e8de"
      },
      "execution_count": 11,
      "outputs": [
        {
          "output_type": "execute_result",
          "data": {
            "text/plain": [
              "True"
            ]
          },
          "metadata": {},
          "execution_count": 11
        }
      ]
    },
    {
      "cell_type": "code",
      "source": [
        "float_32_tensor = torch.tensor([8.9,6.66,98.009],\n",
        "                               dtype=torch.float32,\n",
        "                               device='cuda',\n",
        "                               requires_grad=False)\n",
        "float_32_tensor.dtype"
      ],
      "metadata": {
        "colab": {
          "base_uri": "https://localhost:8080/"
        },
        "id": "51H-y6fjttDZ",
        "outputId": "8f1013bc-c0f0-4e80-95ff-2a3908339236"
      },
      "execution_count": 12,
      "outputs": [
        {
          "output_type": "execute_result",
          "data": {
            "text/plain": [
              "torch.float32"
            ]
          },
          "metadata": {},
          "execution_count": 12
        }
      ]
    },
    {
      "cell_type": "code",
      "source": [
        "print(float_32_tensor.ndim,\n",
        "      float_32_tensor.size(),\n",
        "      float_32_tensor.dtype,\n",
        "      float_32_tensor.device)\n"
      ],
      "metadata": {
        "colab": {
          "base_uri": "https://localhost:8080/"
        },
        "id": "-F7RwtrcuraV",
        "outputId": "c8dc0043-5ed2-4821-9e67-769e6694859c"
      },
      "execution_count": 13,
      "outputs": [
        {
          "output_type": "stream",
          "name": "stdout",
          "text": [
            "1 torch.Size([3]) torch.float32 cuda:0\n"
          ]
        }
      ]
    },
    {
      "cell_type": "markdown",
      "source": [
        "# Performing Mathematical functions"
      ],
      "metadata": {
        "id": "aphRCqaTvMve"
      }
    },
    {
      "cell_type": "markdown",
      "source": [
        "Addition"
      ],
      "metadata": {
        "id": "ZlEBJISevR60"
      }
    },
    {
      "cell_type": "code",
      "source": [
        "random1 = torch.rand(4,4)\n",
        "random2 = torch.rand(4,4)\n",
        "random1 + random2"
      ],
      "metadata": {
        "colab": {
          "base_uri": "https://localhost:8080/"
        },
        "id": "nv_fv2STvVcT",
        "outputId": "452858cb-f864-4865-f028-b8ef39e624a1"
      },
      "execution_count": 14,
      "outputs": [
        {
          "output_type": "execute_result",
          "data": {
            "text/plain": [
              "tensor([[0.6455, 0.8348, 1.3871, 1.3475],\n",
              "        [0.8212, 1.1976, 0.9069, 0.6200],\n",
              "        [1.2256, 1.4578, 1.1488, 1.2194],\n",
              "        [0.4210, 1.3181, 0.5658, 1.2569]])"
            ]
          },
          "metadata": {},
          "execution_count": 14
        }
      ]
    },
    {
      "cell_type": "markdown",
      "source": [
        "Subtraction"
      ],
      "metadata": {
        "id": "73Xbzkp6v0PN"
      }
    },
    {
      "cell_type": "code",
      "source": [
        "random3 = torch.rand(5,2)\n",
        "random4 = torch.rand(5,2)\n",
        "random3 - random4"
      ],
      "metadata": {
        "colab": {
          "base_uri": "https://localhost:8080/"
        },
        "id": "6k8UKUzAviZO",
        "outputId": "c10f6b0a-c836-45b7-a40e-aefc3bad69d4"
      },
      "execution_count": 15,
      "outputs": [
        {
          "output_type": "execute_result",
          "data": {
            "text/plain": [
              "tensor([[-0.2585,  0.4354],\n",
              "        [-0.4770,  0.2023],\n",
              "        [-0.8097,  0.1488],\n",
              "        [-0.3154, -0.4572],\n",
              "        [ 0.5691,  0.4941]])"
            ]
          },
          "metadata": {},
          "execution_count": 15
        }
      ]
    },
    {
      "cell_type": "markdown",
      "source": [
        "Division"
      ],
      "metadata": {
        "id": "sEf-G1_Av3fY"
      }
    },
    {
      "cell_type": "code",
      "source": [
        "random5 = torch.rand(3,3)\n",
        "random6 = torch.rand(3,3)\n",
        "random5 / random6"
      ],
      "metadata": {
        "colab": {
          "base_uri": "https://localhost:8080/"
        },
        "id": "jrmzXggFvxWA",
        "outputId": "362c5c1a-5455-418f-ebc8-47e1e3fee98a"
      },
      "execution_count": 16,
      "outputs": [
        {
          "output_type": "execute_result",
          "data": {
            "text/plain": [
              "tensor([[0.3115, 6.1306, 0.2792],\n",
              "        [0.6425, 0.0716, 0.7552],\n",
              "        [0.4102, 1.1289, 1.5251]])"
            ]
          },
          "metadata": {},
          "execution_count": 16
        }
      ]
    },
    {
      "cell_type": "markdown",
      "source": [
        "Multiplication"
      ],
      "metadata": {
        "id": "hvoKRiCtv8yS"
      }
    },
    {
      "cell_type": "code",
      "source": [
        "random7 = torch.rand(2,3)\n",
        "random8 = torch.rand(3,8)\n",
        "torch.matmul(random7,random8)"
      ],
      "metadata": {
        "colab": {
          "base_uri": "https://localhost:8080/"
        },
        "id": "ceD9cMtiv_ja",
        "outputId": "3f31d6e1-d3b7-4024-8c14-8171b2e9aa0e"
      },
      "execution_count": 17,
      "outputs": [
        {
          "output_type": "execute_result",
          "data": {
            "text/plain": [
              "tensor([[0.2686, 0.7119, 0.8835, 0.3171, 0.3591, 0.7843, 0.6966, 0.6231],\n",
              "        [0.5462, 1.2072, 1.3828, 0.5219, 0.5060, 1.0455, 0.8212, 0.9300]])"
            ]
          },
          "metadata": {},
          "execution_count": 17
        }
      ]
    },
    {
      "cell_type": "markdown",
      "source": [
        "# Tensor Manipulation"
      ],
      "metadata": {
        "id": "z7wGPCH9wb1E"
      }
    },
    {
      "cell_type": "markdown",
      "source": [
        "Random seed"
      ],
      "metadata": {
        "id": "zsRk4DA0B4cR"
      }
    },
    {
      "cell_type": "code",
      "source": [
        "torch.manual_seed(seed=42)\n",
        "tensaar = torch.rand(size=(3, 3, 5))\n",
        "tensaar"
      ],
      "metadata": {
        "colab": {
          "base_uri": "https://localhost:8080/"
        },
        "id": "z8ipOa6MB6d_",
        "outputId": "ddb23c27-8f20-4665-f552-61da001dd3ea"
      },
      "execution_count": 18,
      "outputs": [
        {
          "output_type": "execute_result",
          "data": {
            "text/plain": [
              "tensor([[[0.8823, 0.9150, 0.3829, 0.9593, 0.3904],\n",
              "         [0.6009, 0.2566, 0.7936, 0.9408, 0.1332],\n",
              "         [0.9346, 0.5936, 0.8694, 0.5677, 0.7411]],\n",
              "\n",
              "        [[0.4294, 0.8854, 0.5739, 0.2666, 0.6274],\n",
              "         [0.2696, 0.4414, 0.2969, 0.8317, 0.1053],\n",
              "         [0.2695, 0.3588, 0.1994, 0.5472, 0.0062]],\n",
              "\n",
              "        [[0.9516, 0.0753, 0.8860, 0.5832, 0.3376],\n",
              "         [0.8090, 0.5779, 0.9040, 0.5547, 0.3423],\n",
              "         [0.6343, 0.3644, 0.7104, 0.9464, 0.7890]]])"
            ]
          },
          "metadata": {},
          "execution_count": 18
        }
      ]
    },
    {
      "cell_type": "code",
      "source": [
        "# tensor = torch.arange(8)\n",
        "tensor = torch.tensor([[4,4],[5,5],[6,6]])\n",
        "tensor.shape"
      ],
      "metadata": {
        "colab": {
          "base_uri": "https://localhost:8080/"
        },
        "id": "G0PY5Ikqy7tH",
        "outputId": "2d00a312-d55a-4b81-c2a3-41658328e8f9"
      },
      "execution_count": 19,
      "outputs": [
        {
          "output_type": "execute_result",
          "data": {
            "text/plain": [
              "torch.Size([3, 2])"
            ]
          },
          "metadata": {},
          "execution_count": 19
        }
      ]
    },
    {
      "cell_type": "markdown",
      "source": [
        "Reshape"
      ],
      "metadata": {
        "id": "H2MDaMUbwwna"
      }
    },
    {
      "cell_type": "code",
      "source": [
        "# Adding a dimension\n",
        "tensor.reshape(2,3)\n",
        "# tensor"
      ],
      "metadata": {
        "colab": {
          "base_uri": "https://localhost:8080/"
        },
        "id": "1p7Bt_zFwx0q",
        "outputId": "7f1a5551-329c-4efa-b8c2-27c5081670c4"
      },
      "execution_count": 20,
      "outputs": [
        {
          "output_type": "execute_result",
          "data": {
            "text/plain": [
              "tensor([[4, 4, 5],\n",
              "        [5, 6, 6]])"
            ]
          },
          "metadata": {},
          "execution_count": 20
        }
      ]
    },
    {
      "cell_type": "markdown",
      "source": [
        "Unsqueeze"
      ],
      "metadata": {
        "id": "50XHnTuHyGV-"
      }
    },
    {
      "cell_type": "code",
      "source": [
        "# adds a dimension as using reshape, can add one at a time\n",
        "tensor.unsqueeze(2)"
      ],
      "metadata": {
        "colab": {
          "base_uri": "https://localhost:8080/"
        },
        "id": "FUxz_CyqyJAd",
        "outputId": "35c87a4a-400d-40c4-c832-312fcc07b5d6"
      },
      "execution_count": 21,
      "outputs": [
        {
          "output_type": "execute_result",
          "data": {
            "text/plain": [
              "tensor([[[4],\n",
              "         [4]],\n",
              "\n",
              "        [[5],\n",
              "         [5]],\n",
              "\n",
              "        [[6],\n",
              "         [6]]])"
            ]
          },
          "metadata": {},
          "execution_count": 21
        }
      ]
    },
    {
      "cell_type": "markdown",
      "source": [
        "Squeeze"
      ],
      "metadata": {
        "id": "BHrZodBNz50B"
      }
    },
    {
      "cell_type": "code",
      "source": [
        "# Remove extra dimension\n",
        "tensor.squeeze(1)"
      ],
      "metadata": {
        "colab": {
          "base_uri": "https://localhost:8080/"
        },
        "id": "LYggbFNpzzLs",
        "outputId": "03fbf563-7d35-4118-c4b6-f8b33b57f50f"
      },
      "execution_count": 22,
      "outputs": [
        {
          "output_type": "execute_result",
          "data": {
            "text/plain": [
              "tensor([[4, 4],\n",
              "        [5, 5],\n",
              "        [6, 6]])"
            ]
          },
          "metadata": {},
          "execution_count": 22
        }
      ]
    },
    {
      "cell_type": "markdown",
      "source": [
        "View"
      ],
      "metadata": {
        "id": "Q9nLueK80IaJ"
      }
    },
    {
      "cell_type": "code",
      "source": [
        "z = tensor.view(tensor.shape) # create a copy first\n",
        "z"
      ],
      "metadata": {
        "colab": {
          "base_uri": "https://localhost:8080/"
        },
        "id": "gH0mMHciFAlb",
        "outputId": "d6ded406-60d9-49bf-defa-6554e7171a93"
      },
      "execution_count": 23,
      "outputs": [
        {
          "output_type": "execute_result",
          "data": {
            "text/plain": [
              "tensor([[4, 4],\n",
              "        [5, 5],\n",
              "        [6, 6]])"
            ]
          },
          "metadata": {},
          "execution_count": 23
        }
      ]
    },
    {
      "cell_type": "code",
      "source": [
        "# now changing z changes vector\n",
        "z[0] = 5\n",
        "z, tensor"
      ],
      "metadata": {
        "colab": {
          "base_uri": "https://localhost:8080/"
        },
        "id": "MBkeRTy4FPsH",
        "outputId": "34578aa0-b023-4083-d2cf-9e7e1e860a89"
      },
      "execution_count": 24,
      "outputs": [
        {
          "output_type": "execute_result",
          "data": {
            "text/plain": [
              "(tensor([[5, 5],\n",
              "         [5, 5],\n",
              "         [6, 6]]),\n",
              " tensor([[5, 5],\n",
              "         [5, 5],\n",
              "         [6, 6]]))"
            ]
          },
          "metadata": {},
          "execution_count": 24
        }
      ]
    },
    {
      "cell_type": "markdown",
      "source": [
        "Permute"
      ],
      "metadata": {
        "id": "gd1a1ZPz0XPs"
      }
    },
    {
      "cell_type": "code",
      "source": [
        "tensor.permute(1,0)"
      ],
      "metadata": {
        "colab": {
          "base_uri": "https://localhost:8080/"
        },
        "id": "-S3xda1w0Yr4",
        "outputId": "ee24ea4a-61a1-4a07-db9b-a42833d9e43b"
      },
      "execution_count": 25,
      "outputs": [
        {
          "output_type": "execute_result",
          "data": {
            "text/plain": [
              "tensor([[5, 5, 6],\n",
              "        [5, 5, 6]])"
            ]
          },
          "metadata": {},
          "execution_count": 25
        }
      ]
    },
    {
      "cell_type": "markdown",
      "source": [
        "Stacking"
      ],
      "metadata": {
        "id": "EX8uDw1KG0qG"
      }
    },
    {
      "cell_type": "code",
      "source": [
        "rand1 = torch.rand(3,3)\n",
        "rand2 = torch.rand(3,3)\n",
        "rand3 = torch.rand(3,3)\n",
        "rand4 = torch.rand(3,3)\n",
        "torch.stack([rand1,rand2,rand3,rand4],dim=0)"
      ],
      "metadata": {
        "colab": {
          "base_uri": "https://localhost:8080/"
        },
        "id": "6C6xH7n-HJh6",
        "outputId": "d1c6452b-4d4f-4360-c845-4ce9c8f750da"
      },
      "execution_count": 26,
      "outputs": [
        {
          "output_type": "execute_result",
          "data": {
            "text/plain": [
              "tensor([[[0.2814, 0.7886, 0.5895],\n",
              "         [0.7539, 0.1952, 0.0050],\n",
              "         [0.3068, 0.1165, 0.9103]],\n",
              "\n",
              "        [[0.6440, 0.7071, 0.6581],\n",
              "         [0.4913, 0.8913, 0.1447],\n",
              "         [0.5315, 0.1587, 0.6542]],\n",
              "\n",
              "        [[0.3278, 0.6532, 0.3958],\n",
              "         [0.9147, 0.2036, 0.2018],\n",
              "         [0.2018, 0.9497, 0.6666]],\n",
              "\n",
              "        [[0.9811, 0.0874, 0.0041],\n",
              "         [0.1088, 0.1637, 0.7025],\n",
              "         [0.6790, 0.9155, 0.2418]]])"
            ]
          },
          "metadata": {},
          "execution_count": 26
        }
      ]
    },
    {
      "cell_type": "code",
      "source": [
        "x_stacked = torch.stack([rand1,rand2,rand3,rand4],dim=2)\n",
        "x_stacked\n"
      ],
      "metadata": {
        "colab": {
          "base_uri": "https://localhost:8080/"
        },
        "id": "6Ay6T6NTG19l",
        "outputId": "4d254153-1e4e-4dcb-d8fe-77296bbebd8e"
      },
      "execution_count": 27,
      "outputs": [
        {
          "output_type": "execute_result",
          "data": {
            "text/plain": [
              "tensor([[[0.2814, 0.6440, 0.3278, 0.9811],\n",
              "         [0.7886, 0.7071, 0.6532, 0.0874],\n",
              "         [0.5895, 0.6581, 0.3958, 0.0041]],\n",
              "\n",
              "        [[0.7539, 0.4913, 0.9147, 0.1088],\n",
              "         [0.1952, 0.8913, 0.2036, 0.1637],\n",
              "         [0.0050, 0.1447, 0.2018, 0.7025]],\n",
              "\n",
              "        [[0.3068, 0.5315, 0.2018, 0.6790],\n",
              "         [0.1165, 0.1587, 0.9497, 0.9155],\n",
              "         [0.9103, 0.6542, 0.6666, 0.2418]]])"
            ]
          },
          "metadata": {},
          "execution_count": 27
        }
      ]
    }
  ]
}